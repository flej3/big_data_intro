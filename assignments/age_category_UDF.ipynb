{
 "cells": [
  {
   "cell_type": "code",
   "execution_count": 1,
   "id": "2ef3c224-ef4f-42ad-b82e-5a83d6da9b38",
   "metadata": {},
   "outputs": [],
   "source": [
    "from pyspark.sql import SparkSession\n",
    "\n",
    "spark = SparkSession.builder.master('local').appName('udf').getOrCreate()"
   ]
  },
  {
   "cell_type": "code",
   "execution_count": 4,
   "id": "db5f2884-939f-4112-8cc0-f4564219b846",
   "metadata": {},
   "outputs": [],
   "source": [
    "ages = [('심형래', 67),('선동열', 62),('조용필',75), \n",
    "       ('이국주', 39), ('개코', 44), ('쯔위', 25),\n",
    "      ('뷔',29), ('청하',28), ('선미', 33), ('김향기',24)]"
   ]
  },
  {
   "cell_type": "code",
   "execution_count": 5,
   "id": "c4b65c5c-0b36-4c60-93e8-21f1e153cb27",
   "metadata": {},
   "outputs": [],
   "source": [
    "schema = ['name', 'age']"
   ]
  },
  {
   "cell_type": "code",
   "execution_count": 6,
   "id": "9c65b868-79e1-4d15-8d16-606af3965697",
   "metadata": {},
   "outputs": [],
   "source": [
    "df = spark.createDataFrame(ages, schema)"
   ]
  },
  {
   "cell_type": "code",
   "execution_count": 7,
   "id": "c9f34be9-b88e-45e5-b30c-ac78039c23b3",
   "metadata": {},
   "outputs": [
    {
     "name": "stdout",
     "output_type": "stream",
     "text": [
      "+------+---+\n",
      "|  name|age|\n",
      "+------+---+\n",
      "|심형래| 67|\n",
      "|선동열| 62|\n",
      "|조용필| 75|\n",
      "|이국주| 39|\n",
      "|  개코| 44|\n",
      "|  쯔위| 25|\n",
      "|    뷔| 29|\n",
      "|  청하| 28|\n",
      "|  선미| 33|\n",
      "|김향기| 24|\n",
      "+------+---+\n",
      "\n"
     ]
    }
   ],
   "source": [
    "df.show()"
   ]
  },
  {
   "cell_type": "code",
   "execution_count": 9,
   "id": "5a64fde5-6e4e-431f-b0cf-6bbd94cbb856",
   "metadata": {},
   "outputs": [
    {
     "name": "stdout",
     "output_type": "stream",
     "text": [
      "root\n",
      " |-- name: string (nullable = true)\n",
      " |-- age: long (nullable = true)\n",
      "\n"
     ]
    }
   ],
   "source": [
    "df.printSchema()"
   ]
  },
  {
   "cell_type": "code",
   "execution_count": 14,
   "id": "5a89786d-e68e-4cdd-ab71-062b42ba7805",
   "metadata": {},
   "outputs": [],
   "source": [
    "df.createOrReplaceTempView('ages')"
   ]
  },
  {
   "cell_type": "code",
   "execution_count": 20,
   "id": "a9a7ee61-15a5-4b16-b64f-ba3450d1e9f4",
   "metadata": {},
   "outputs": [],
   "source": [
    "\n",
    "def age_category(age):\n",
    "    if age<35 :\n",
    "        return 'young'\n",
    "    elif age<=59 :\n",
    "        return 'adult'\n",
    "    else :\n",
    "        return 'senior'"
   ]
  },
  {
   "cell_type": "code",
   "execution_count": 21,
   "id": "3389101f-24f9-4bcc-baa8-12456361d530",
   "metadata": {},
   "outputs": [
    {
     "data": {
      "text/plain": [
       "<function __main__.age_category(age)>"
      ]
     },
     "execution_count": 21,
     "metadata": {},
     "output_type": "execute_result"
    }
   ],
   "source": [
    "spark.udf.register('age_category', age_category)"
   ]
  },
  {
   "cell_type": "code",
   "execution_count": 24,
   "id": "f4da0e9d-b834-4d87-a644-355394df6f54",
   "metadata": {},
   "outputs": [
    {
     "name": "stdout",
     "output_type": "stream",
     "text": [
      "+------+------------+\n",
      "|  name|age_category|\n",
      "+------+------------+\n",
      "|심형래|      senior|\n",
      "|선동열|      senior|\n",
      "|조용필|      senior|\n",
      "|이국주|       adult|\n",
      "|  개코|       adult|\n",
      "|  쯔위|       young|\n",
      "|    뷔|       young|\n",
      "|  청하|       young|\n",
      "|  선미|       young|\n",
      "|김향기|       young|\n",
      "+------+------------+\n",
      "\n"
     ]
    }
   ],
   "source": [
    "spark.sql(\n",
    "    \"SELECT name, \\\n",
    "    age_category(age) AS age_category \\\n",
    "    FROM ages\").show()"
   ]
  },
  {
   "cell_type": "code",
   "execution_count": null,
   "id": "c1569a54-b4b1-4373-b00b-2ca87f24bde0",
   "metadata": {},
   "outputs": [],
   "source": []
  }
 ],
 "metadata": {
  "kernelspec": {
   "display_name": "Python 3 (ipykernel)",
   "language": "python",
   "name": "python3"
  },
  "language_info": {
   "codemirror_mode": {
    "name": "ipython",
    "version": 3
   },
   "file_extension": ".py",
   "mimetype": "text/x-python",
   "name": "python",
   "nbconvert_exporter": "python",
   "pygments_lexer": "ipython3",
   "version": "3.9.13"
  }
 },
 "nbformat": 4,
 "nbformat_minor": 5
}
