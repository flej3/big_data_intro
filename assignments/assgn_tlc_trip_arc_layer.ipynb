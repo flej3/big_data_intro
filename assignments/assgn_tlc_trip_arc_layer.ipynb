{
 "cells": [
  {
   "cell_type": "code",
   "execution_count": 1,
   "id": "f7a34f78-1159-4607-83cf-af932bdff1a4",
   "metadata": {
    "tags": []
   },
   "outputs": [],
   "source": [
    "# [+] PySpark 시작\n",
    "from pyspark import SparkConf, SparkContext\n",
    "conf = SparkConf().setMaster('local').setAppName('assgn-tlc-trip-arc-layer')\n",
    "sc = SparkContext(conf=conf)"
   ]
  },
  {
   "cell_type": "code",
   "execution_count": 2,
   "id": "da1273e1-ce30-491e-ba04-3b47f6dbaffa",
   "metadata": {
    "tags": []
   },
   "outputs": [],
   "source": [
    "# 데이터 파일 경로 및 이름\n",
    "path = './data/'\n",
    "coord_file = 'taxi_zone_lookup_coordinates_v2.csv'\n",
    "trip_file = 'fhvhv_tripdata_2020-03_short.csv'"
   ]
  },
  {
   "cell_type": "code",
   "execution_count": 3,
   "id": "5d8ce7c0-78e6-4b57-b0d7-ce7f775b447b",
   "metadata": {
    "tags": []
   },
   "outputs": [
    {
     "data": {
      "text/plain": [
       "['LocationID,Borough,Zone,service_zone,latitude,longitude',\n",
       " '1,EWR,Newark Airport,EWR,40.69287997,-74.18544993',\n",
       " '2,Queens,Jamaica Bay,Boro Zone,40.6057,-73.8713',\n",
       " '3,Bronx,Allerton/Pelham Gardens,Boro Zone,40.86521003,-73.8435548',\n",
       " '4,Manhattan,Alphabet City,Yellow Zone,40.72599,-73.98057']"
      ]
     },
     "execution_count": 3,
     "metadata": {},
     "output_type": "execute_result"
    }
   ],
   "source": [
    "# [+] coordinates 데이터 파일을 읽어 RDD로 생성\n",
    "coord_lines = sc.textFile('./data/' + coord_file)\n",
    "\n",
    "# [+] RDD 값 5개 출력\n",
    "coord_lines.take(5)"
   ]
  },
  {
   "cell_type": "code",
   "execution_count": 4,
   "id": "9f5fb721-2d19-4f15-9718-b5872919663e",
   "metadata": {
    "tags": []
   },
   "outputs": [
    {
     "data": {
      "text/plain": [
       "['hvfhs_license_num,dispatching_base_num,pickup_datetime,dropoff_datetime,PULocationID,DOLocationID,SR_Flag',\n",
       " 'HV0005,B02510,2020-03-01 00:03:40,2020-03-01 00:23:39,81,159,',\n",
       " 'HV0005,B02510,2020-03-01 00:28:05,2020-03-01 00:38:57,168,119,',\n",
       " 'HV0003,B02764,2020-03-01 00:03:07,2020-03-01 00:15:04,137,209,1',\n",
       " 'HV0003,B02764,2020-03-01 00:18:42,2020-03-01 00:38:42,209,80,']"
      ]
     },
     "execution_count": 4,
     "metadata": {},
     "output_type": "execute_result"
    }
   ],
   "source": [
    "# [+] Trip 데이터 파일을 읽어 RDD로 생성\n",
    "trip_lines = sc.textFile('./data/' + trip_file)\n",
    "\n",
    "# [+] RDD 값 5개 출력\n",
    "trip_lines.take(5)"
   ]
  },
  {
   "cell_type": "code",
   "execution_count": 5,
   "id": "778f699e-4ba1-4653-b3b7-41f36cd7af50",
   "metadata": {
    "tags": []
   },
   "outputs": [],
   "source": [
    "# [+] coord_lines의 헤더 제거\n",
    "coord_header = coord_lines.first()\n",
    "coord_filtered_lines = coord_lines.filter(lambda row:row != coord_header)"
   ]
  },
  {
   "cell_type": "code",
   "execution_count": 6,
   "id": "b995ce21-3d9d-4a1b-81ae-d8adaa6d9e6f",
   "metadata": {},
   "outputs": [
    {
     "data": {
      "text/plain": [
       "'1,EWR,Newark Airport,EWR,40.69287997,-74.18544993'"
      ]
     },
     "execution_count": 6,
     "metadata": {},
     "output_type": "execute_result"
    }
   ],
   "source": [
    "coord_filtered_lines.first()"
   ]
  },
  {
   "cell_type": "code",
   "execution_count": 7,
   "id": "2e248e4f-6478-44c0-adb5-8def4d53307a",
   "metadata": {
    "tags": []
   },
   "outputs": [],
   "source": [
    "# [+] trip_lines의 헤더 제거\n",
    "trip_header = trip_lines.first()\n",
    "trip_filtered_lines = trip_lines.filter(lambda row:row != trip_header)"
   ]
  },
  {
   "cell_type": "code",
   "execution_count": 8,
   "id": "ef05d558-84e3-4e54-88bd-89340d417aad",
   "metadata": {},
   "outputs": [
    {
     "data": {
      "text/plain": [
       "'HV0005,B02510,2020-03-01 00:03:40,2020-03-01 00:23:39,81,159,'"
      ]
     },
     "execution_count": 8,
     "metadata": {},
     "output_type": "execute_result"
    }
   ],
   "source": [
    "trip_filtered_lines.first()"
   ]
  },
  {
   "cell_type": "code",
   "execution_count": 9,
   "id": "79c85601-f41e-4ac9-b735-6f457ce0c382",
   "metadata": {
    "tags": []
   },
   "outputs": [
    {
     "data": {
      "text/plain": [
       "['1,EWR,Newark Airport,EWR,40.69287997,-74.18544993',\n",
       " '2,Queens,Jamaica Bay,Boro Zone,40.6057,-73.8713',\n",
       " '3,Bronx,Allerton/Pelham Gardens,Boro Zone,40.86521003,-73.8435548',\n",
       " '4,Manhattan,Alphabet City,Yellow Zone,40.72599,-73.98057',\n",
       " '5,Staten Island,Arden Heights,Boro Zone,40.5564,-74.1735']"
      ]
     },
     "execution_count": 9,
     "metadata": {},
     "output_type": "execute_result"
    }
   ],
   "source": [
    "# [+] 헤더가 제거된 coord_filtered_lines 값 5개 출력\n",
    "coord_filtered_lines.take(5)"
   ]
  },
  {
   "cell_type": "code",
   "execution_count": 10,
   "id": "1b5574eb-7cd9-4f1f-b77c-990c637e103e",
   "metadata": {
    "tags": []
   },
   "outputs": [
    {
     "data": {
      "text/plain": [
       "['HV0005,B02510,2020-03-01 00:03:40,2020-03-01 00:23:39,81,159,',\n",
       " 'HV0005,B02510,2020-03-01 00:28:05,2020-03-01 00:38:57,168,119,',\n",
       " 'HV0003,B02764,2020-03-01 00:03:07,2020-03-01 00:15:04,137,209,1',\n",
       " 'HV0003,B02764,2020-03-01 00:18:42,2020-03-01 00:38:42,209,80,',\n",
       " 'HV0003,B02764,2020-03-01 00:44:24,2020-03-01 00:58:44,256,226,']"
      ]
     },
     "execution_count": 10,
     "metadata": {},
     "output_type": "execute_result"
    }
   ],
   "source": [
    "# [+] 헤더가 제거된 trip_filtered_lines 값 5개 출력\n",
    "trip_filtered_lines.take(5)"
   ]
  },
  {
   "cell_type": "code",
   "execution_count": 11,
   "id": "82678f0d-bc08-4a1c-b0df-52509802baab",
   "metadata": {
    "tags": []
   },
   "outputs": [],
   "source": [
    "# [+] Key-Value RDD 생성\n",
    "coord_kv = coord_filtered_lines.map(lambda x: ((x.split(\",\")[0]),(x.split(\",\")[4], x.split(\",\")[5])))"
   ]
  },
  {
   "cell_type": "code",
   "execution_count": 12,
   "id": "c8945653-127a-45fa-be7c-c6e31cb793e5",
   "metadata": {
    "tags": []
   },
   "outputs": [
    {
     "data": {
      "text/plain": [
       "[('1', ('40.69287997', '-74.18544993')),\n",
       " ('2', ('40.6057', '-73.8713')),\n",
       " ('3', ('40.86521003', '-73.8435548')),\n",
       " ('4', ('40.72599', '-73.98057')),\n",
       " ('5', ('40.5564', '-74.1735'))]"
      ]
     },
     "execution_count": 12,
     "metadata": {},
     "output_type": "execute_result"
    }
   ],
   "source": [
    "# [+] coord_kv 값 5개 출력\n",
    "coord_kv.take(5)"
   ]
  },
  {
   "cell_type": "code",
   "execution_count": 13,
   "id": "ba2d47d1-4919-44bc-9266-e069c69f49b3",
   "metadata": {
    "tags": []
   },
   "outputs": [],
   "source": [
    "# latitude, longitude 값을 float 타입으로 변환\n",
    "coord_kv = coord_kv.mapValues(lambda x: [float(x[0]), float(x[1])])"
   ]
  },
  {
   "cell_type": "code",
   "execution_count": 14,
   "id": "80332c14-d478-4444-a934-45648053033e",
   "metadata": {
    "tags": []
   },
   "outputs": [
    {
     "data": {
      "text/plain": [
       "[('1', [40.69287997, -74.18544993]),\n",
       " ('2', [40.6057, -73.8713]),\n",
       " ('3', [40.86521003, -73.8435548]),\n",
       " ('4', [40.72599, -73.98057]),\n",
       " ('5', [40.5564, -74.1735])]"
      ]
     },
     "execution_count": 14,
     "metadata": {},
     "output_type": "execute_result"
    }
   ],
   "source": [
    "# [+] coord_kv 값 5개 출력\n",
    "coord_kv.take(5)"
   ]
  },
  {
   "cell_type": "code",
   "execution_count": 15,
   "id": "34086667-eb85-43f9-a604-89e8c7d9947c",
   "metadata": {
    "tags": []
   },
   "outputs": [],
   "source": [
    "# [+] Key-Value RDD 생성\n",
    "trip_kv = trip_filtered_lines.map(lambda x: ((x.split(\",\")[4]),(x.split(\",\")[5])))"
   ]
  },
  {
   "cell_type": "code",
   "execution_count": 16,
   "id": "ca7abf15-8e48-4c98-9d5c-c1252de39d80",
   "metadata": {
    "tags": []
   },
   "outputs": [
    {
     "data": {
      "text/plain": [
       "[('81', '159'), ('168', '119'), ('137', '209'), ('209', '80'), ('256', '226')]"
      ]
     },
     "execution_count": 16,
     "metadata": {},
     "output_type": "execute_result"
    }
   ],
   "source": [
    "# [+] trip_kv 값 5개 출력\n",
    "trip_kv.take(5)"
   ]
  },
  {
   "cell_type": "code",
   "execution_count": 17,
   "id": "00c29342-2f96-4f73-a31b-74a19b239c3a",
   "metadata": {
    "tags": []
   },
   "outputs": [],
   "source": [
    "# [+] trip_kv와 coord_kv의 조인 연산\n",
    "pu_joined = trip_kv.join(coord_kv)"
   ]
  },
  {
   "cell_type": "code",
   "execution_count": 18,
   "id": "85a89290-553e-436e-8014-d471cfc95d47",
   "metadata": {
    "tags": []
   },
   "outputs": [
    {
     "data": {
      "text/plain": [
       "[('209', ('80', [40.7072, -74.0027])),\n",
       " ('209', ('37', [40.7072, -74.0027])),\n",
       " ('209', ('13', [40.7072, -74.0027])),\n",
       " ('209', ('127', [40.7072, -74.0027])),\n",
       " ('209', ('39', [40.7072, -74.0027]))]"
      ]
     },
     "execution_count": 18,
     "metadata": {},
     "output_type": "execute_result"
    }
   ],
   "source": [
    "# [+] pu_joined 5개 값 출력\n",
    "pu_joined.take(5)"
   ]
  },
  {
   "cell_type": "code",
   "execution_count": 19,
   "id": "9638ae31-c014-4721-ad11-aa34d0235f65",
   "metadata": {
    "tags": []
   },
   "outputs": [
    {
     "data": {
      "text/plain": [
       "[('80', [40.7072, -74.0027]),\n",
       " ('37', [40.7072, -74.0027]),\n",
       " ('13', [40.7072, -74.0027]),\n",
       " ('127', [40.7072, -74.0027]),\n",
       " ('39', [40.7072, -74.0027])]"
      ]
     },
     "execution_count": 19,
     "metadata": {},
     "output_type": "execute_result"
    }
   ],
   "source": [
    "# Key(PULocationID) 제거\n",
    "pu_joined = pu_joined.values()\n",
    "pu_joined.take(5)"
   ]
  },
  {
   "cell_type": "code",
   "execution_count": 20,
   "id": "2aa54113-84da-4e7b-9283-155972cebb1e",
   "metadata": {
    "tags": []
   },
   "outputs": [],
   "source": [
    "# [+] pu_joined와 coord_kv의 조인 연산\n",
    "pudo_joined = pu_joined.join(coord_kv)"
   ]
  },
  {
   "cell_type": "code",
   "execution_count": 21,
   "id": "45c37d01-e6d7-44a2-950c-6ca1ae2202d8",
   "metadata": {
    "tags": []
   },
   "outputs": [
    {
     "data": {
      "text/plain": [
       "[('40', ([40.7072, -74.0027], [40.6802, -74.00163])),\n",
       " ('40', ([40.7072, -74.0027], [40.6802, -74.00163])),\n",
       " ('40', ([40.7072, -74.0027], [40.6802, -74.00163])),\n",
       " ('40', ([40.7072, -74.0027], [40.6802, -74.00163])),\n",
       " ('40', ([40.7072, -74.0027], [40.6802, -74.00163]))]"
      ]
     },
     "execution_count": 21,
     "metadata": {},
     "output_type": "execute_result"
    }
   ],
   "source": [
    "# [+] pudo_joined 값 5개 출력\n",
    "pudo_joined.take(5)"
   ]
  },
  {
   "cell_type": "code",
   "execution_count": 22,
   "id": "3e666d79-fda4-4ff7-a95c-09d56ae3840c",
   "metadata": {
    "tags": []
   },
   "outputs": [
    {
     "data": {
      "text/plain": [
       "[([40.7072, -74.0027], [40.6802, -74.00163]),\n",
       " ([40.7072, -74.0027], [40.6802, -74.00163]),\n",
       " ([40.7072, -74.0027], [40.6802, -74.00163]),\n",
       " ([40.7072, -74.0027], [40.6802, -74.00163]),\n",
       " ([40.7072, -74.0027], [40.6802, -74.00163])]"
      ]
     },
     "execution_count": 22,
     "metadata": {},
     "output_type": "execute_result"
    }
   ],
   "source": [
    "# Key(DOLocationID) 제거\n",
    "pudo_joined = pudo_joined.values()\n",
    "pudo_joined.take(5)"
   ]
  },
  {
   "cell_type": "code",
   "execution_count": 23,
   "id": "495ccc31-6312-472c-b9ff-33e9f2f0bb4f",
   "metadata": {
    "tags": []
   },
   "outputs": [],
   "source": [
    "# [+] pudo_joined를 List 객체로 출력\n",
    "coord_lst = pudo_joined.collect()"
   ]
  },
  {
   "cell_type": "code",
   "execution_count": 24,
   "id": "fa73dc66-807c-4a8d-b1af-1effc1f33529",
   "metadata": {
    "tags": []
   },
   "outputs": [
    {
     "data": {
      "text/plain": [
       "([40.7072, -74.0027], [40.6802, -74.00163])"
      ]
     },
     "execution_count": 24,
     "metadata": {},
     "output_type": "execute_result"
    }
   ],
   "source": [
    "# 샘플 출력\n",
    "coord_lst[0]"
   ]
  },
  {
   "cell_type": "code",
   "execution_count": 25,
   "id": "e677fea3-7af9-47c6-974c-670be7a4e844",
   "metadata": {
    "tags": []
   },
   "outputs": [],
   "source": [
    "# 승차위치와 하차위치 리스트 결합\n",
    "res_lst = []\n",
    "\n",
    "for i in range(len(coord_lst)):\n",
    "    res_lst.append(list(coord_lst[i][0] + coord_lst[i][1]))"
   ]
  },
  {
   "cell_type": "code",
   "execution_count": 26,
   "id": "c099c2c0-2852-4493-96f1-ca10a861a7b1",
   "metadata": {
    "tags": []
   },
   "outputs": [
    {
     "data": {
      "text/plain": [
       "[40.7072, -74.0027, 40.6802, -74.00163]"
      ]
     },
     "execution_count": 26,
     "metadata": {},
     "output_type": "execute_result"
    }
   ],
   "source": [
    "# 샘플 출력\n",
    "res_lst[0]"
   ]
  },
  {
   "cell_type": "code",
   "execution_count": 27,
   "id": "22fecc9d-7ff9-4c24-a8e1-1621ab3efe05",
   "metadata": {
    "tags": []
   },
   "outputs": [],
   "source": [
    "# 결과를 DataFrame 객체에 저장\n",
    "import pandas as pd\n",
    "df = pd.DataFrame(res_lst, columns=[\"latitude_pu\", \"longitude_pu\",\n",
    "                                    \"latitude_do\", \"longitude_do\"\n",
    "                                    ])"
   ]
  },
  {
   "cell_type": "code",
   "execution_count": 28,
   "id": "e0a75ff1-0a43-414a-a66e-da668d0ed66f",
   "metadata": {
    "tags": []
   },
   "outputs": [
    {
     "data": {
      "text/html": [
       "<div>\n",
       "<style scoped>\n",
       "    .dataframe tbody tr th:only-of-type {\n",
       "        vertical-align: middle;\n",
       "    }\n",
       "\n",
       "    .dataframe tbody tr th {\n",
       "        vertical-align: top;\n",
       "    }\n",
       "\n",
       "    .dataframe thead th {\n",
       "        text-align: right;\n",
       "    }\n",
       "</style>\n",
       "<table border=\"1\" class=\"dataframe\">\n",
       "  <thead>\n",
       "    <tr style=\"text-align: right;\">\n",
       "      <th></th>\n",
       "      <th>latitude_pu</th>\n",
       "      <th>longitude_pu</th>\n",
       "      <th>latitude_do</th>\n",
       "      <th>longitude_do</th>\n",
       "    </tr>\n",
       "  </thead>\n",
       "  <tbody>\n",
       "    <tr>\n",
       "      <th>0</th>\n",
       "      <td>40.707200</td>\n",
       "      <td>-74.002700</td>\n",
       "      <td>40.6802</td>\n",
       "      <td>-74.00163</td>\n",
       "    </tr>\n",
       "    <tr>\n",
       "      <th>1</th>\n",
       "      <td>40.707200</td>\n",
       "      <td>-74.002700</td>\n",
       "      <td>40.6802</td>\n",
       "      <td>-74.00163</td>\n",
       "    </tr>\n",
       "    <tr>\n",
       "      <th>2</th>\n",
       "      <td>40.707200</td>\n",
       "      <td>-74.002700</td>\n",
       "      <td>40.6802</td>\n",
       "      <td>-74.00163</td>\n",
       "    </tr>\n",
       "    <tr>\n",
       "      <th>3</th>\n",
       "      <td>40.707200</td>\n",
       "      <td>-74.002700</td>\n",
       "      <td>40.6802</td>\n",
       "      <td>-74.00163</td>\n",
       "    </tr>\n",
       "    <tr>\n",
       "      <th>4</th>\n",
       "      <td>40.707200</td>\n",
       "      <td>-74.002700</td>\n",
       "      <td>40.6802</td>\n",
       "      <td>-74.00163</td>\n",
       "    </tr>\n",
       "    <tr>\n",
       "      <th>...</th>\n",
       "      <td>...</td>\n",
       "      <td>...</td>\n",
       "      <td>...</td>\n",
       "      <td>...</td>\n",
       "    </tr>\n",
       "    <tr>\n",
       "      <th>4712821</th>\n",
       "      <td>40.862964</td>\n",
       "      <td>-73.858008</td>\n",
       "      <td>40.8468</td>\n",
       "      <td>-73.78750</td>\n",
       "    </tr>\n",
       "    <tr>\n",
       "      <th>4712822</th>\n",
       "      <td>40.862964</td>\n",
       "      <td>-73.858008</td>\n",
       "      <td>40.8468</td>\n",
       "      <td>-73.78750</td>\n",
       "    </tr>\n",
       "    <tr>\n",
       "      <th>4712823</th>\n",
       "      <td>40.754932</td>\n",
       "      <td>-73.984016</td>\n",
       "      <td>40.8468</td>\n",
       "      <td>-73.78750</td>\n",
       "    </tr>\n",
       "    <tr>\n",
       "      <th>4712824</th>\n",
       "      <td>40.689500</td>\n",
       "      <td>-73.764400</td>\n",
       "      <td>40.8468</td>\n",
       "      <td>-73.78750</td>\n",
       "    </tr>\n",
       "    <tr>\n",
       "      <th>4712825</th>\n",
       "      <td>40.748000</td>\n",
       "      <td>-73.713240</td>\n",
       "      <td>40.8468</td>\n",
       "      <td>-73.78750</td>\n",
       "    </tr>\n",
       "  </tbody>\n",
       "</table>\n",
       "<p>4712826 rows × 4 columns</p>\n",
       "</div>"
      ],
      "text/plain": [
       "         latitude_pu  longitude_pu  latitude_do  longitude_do\n",
       "0          40.707200    -74.002700      40.6802     -74.00163\n",
       "1          40.707200    -74.002700      40.6802     -74.00163\n",
       "2          40.707200    -74.002700      40.6802     -74.00163\n",
       "3          40.707200    -74.002700      40.6802     -74.00163\n",
       "4          40.707200    -74.002700      40.6802     -74.00163\n",
       "...              ...           ...          ...           ...\n",
       "4712821    40.862964    -73.858008      40.8468     -73.78750\n",
       "4712822    40.862964    -73.858008      40.8468     -73.78750\n",
       "4712823    40.754932    -73.984016      40.8468     -73.78750\n",
       "4712824    40.689500    -73.764400      40.8468     -73.78750\n",
       "4712825    40.748000    -73.713240      40.8468     -73.78750\n",
       "\n",
       "[4712826 rows x 4 columns]"
      ]
     },
     "execution_count": 28,
     "metadata": {},
     "output_type": "execute_result"
    }
   ],
   "source": [
    "df"
   ]
  },
  {
   "cell_type": "code",
   "execution_count": 29,
   "id": "4ad784df-201b-4972-9f8b-d53bf352e9ea",
   "metadata": {},
   "outputs": [
    {
     "name": "stdout",
     "output_type": "stream",
     "text": [
      "Requirement already satisfied: pydeck in c:\\users\\jewelry\\anaconda3\\lib\\site-packages (0.8.0)\n",
      "Requirement already satisfied: jinja2>=2.10.1 in c:\\users\\jewelry\\anaconda3\\lib\\site-packages (from pydeck) (2.11.3)\n",
      "Requirement already satisfied: numpy>=1.16.4 in c:\\users\\jewelry\\anaconda3\\lib\\site-packages (from pydeck) (1.21.5)\n",
      "Requirement already satisfied: MarkupSafe>=0.23 in c:\\users\\jewelry\\anaconda3\\lib\\site-packages (from jinja2>=2.10.1->pydeck) (2.0.1)\n"
     ]
    }
   ],
   "source": [
    "# pydeck 설치 명령어\n",
    "!pip install pydeck"
   ]
  },
  {
   "cell_type": "code",
   "execution_count": 30,
   "id": "e7744909-0e11-47ed-bab4-5a75d22dbdd6",
   "metadata": {
    "tags": []
   },
   "outputs": [],
   "source": [
    "# pydeck 임포트\n",
    "import pydeck as pdk"
   ]
  },
  {
   "cell_type": "code",
   "execution_count": 31,
   "id": "b0fc9149-b311-41c9-9091-d561ba263d2d",
   "metadata": {
    "tags": []
   },
   "outputs": [],
   "source": [
    "# 시각화 옵션\n",
    "GREEN_RGB = [0, 255, 0, 40]\n",
    "RED_RGB = [240, 100, 0, 40]"
   ]
  },
  {
   "cell_type": "code",
   "execution_count": null,
   "id": "7e62d3cc-05fb-4724-bf1e-ad9c6fda1bd9",
   "metadata": {},
   "outputs": [],
   "source": [
    "%%time\n",
    "\n",
    "# ArcLayer 시각화 설정\n",
    "arc_layer = pdk.Layer(\n",
    "    \"ArcLayer\",\n",
    "    data=df.sample(100000),\n",
    "    get_width=\"S000 * 2\",\n",
    "    get_source_position=[\"longitude_pu\", \"latitude_pu\"],\n",
    "    get_target_position=[\"longitude_do\", \"latitude_do\"],\n",
    "    get_tilt=15,\n",
    "    get_source_color=RED_RGB,\n",
    "    get_target_color=GREEN_RGB,\n",
    "    pickable=True,\n",
    "    auto_highlight=True,\n",
    ")\n",
    "\n",
    "# 초기화면 설정\n",
    "view_state = pdk.ViewState(\n",
    "    latitude=40.6928,\n",
    "    longitude=-74.1854,\n",
    "    bearing=45,\n",
    "    pitch=50,\n",
    "    zoom=8,\n",
    ")\n",
    "\n",
    "\n",
    "# 렌더링 옵션\n",
    "TOOLTIP_TEXT = {\"html\": \"{S000} trips <br /> Pickup Locations in red; Dropoff Locations in green\"}\n",
    "r = pdk.Deck(arc_layer, initial_view_state=view_state, tooltip=TOOLTIP_TEXT)\n",
    "r.to_html(\"arc_layer.html\")"
   ]
  }
 ],
 "metadata": {
  "kernelspec": {
   "display_name": "Python 3 (ipykernel)",
   "language": "python",
   "name": "python3"
  },
  "language_info": {
   "codemirror_mode": {
    "name": "ipython",
    "version": 3
   },
   "file_extension": ".py",
   "mimetype": "text/x-python",
   "name": "python",
   "nbconvert_exporter": "python",
   "pygments_lexer": "ipython3",
   "version": "3.9.13"
  }
 },
 "nbformat": 4,
 "nbformat_minor": 5
}
